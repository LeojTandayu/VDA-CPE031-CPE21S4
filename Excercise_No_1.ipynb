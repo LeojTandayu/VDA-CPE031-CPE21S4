{
  "nbformat": 4,
  "nbformat_minor": 0,
  "metadata": {
    "colab": {
      "provenance": []
    },
    "kernelspec": {
      "name": "python3",
      "display_name": "Python 3"
    },
    "language_info": {
      "name": "python"
    }
  },
  "cells": [
    {
      "cell_type": "markdown",
      "source": [
        "# **Variable and Data Types**"
      ],
      "metadata": {
        "id": "uju5t_sD5nvF"
      }
    },
    {
      "cell_type": "markdown",
      "source": [
        "Numbers"
      ],
      "metadata": {
        "id": "uew-nenN2nnZ"
      }
    },
    {
      "cell_type": "code",
      "source": [
        "varNum = 123\n",
        "pi = 3.14159"
      ],
      "metadata": {
        "id": "fxA916Vl2sMg"
      },
      "execution_count": null,
      "outputs": []
    },
    {
      "cell_type": "markdown",
      "source": [
        "String"
      ],
      "metadata": {
        "id": "CfbrxlHt2xeo"
      }
    },
    {
      "cell_type": "code",
      "source": [
        "varString = \"Hello World\"\n",
        "varText = 'This is a String'"
      ],
      "metadata": {
        "id": "Ee4NSpqr2zLB"
      },
      "execution_count": null,
      "outputs": []
    },
    {
      "cell_type": "markdown",
      "source": [
        "List\n"
      ],
      "metadata": {
        "id": "hHqDRB6H25GZ"
      }
    },
    {
      "cell_type": "code",
      "source": [
        "varList = [\"abc\", 123]"
      ],
      "metadata": {
        "id": "-Rgzplz026iR"
      },
      "execution_count": null,
      "outputs": []
    },
    {
      "cell_type": "markdown",
      "source": [
        "Tuples"
      ],
      "metadata": {
        "id": "EoQJeVEt3ArA"
      }
    },
    {
      "cell_type": "code",
      "source": [
        "varTuple = 'abc', 123, \"HELLO\""
      ],
      "metadata": {
        "id": "SAy5UuJt3CMg"
      },
      "execution_count": null,
      "outputs": []
    },
    {
      "cell_type": "markdown",
      "source": [
        "Dictionaries"
      ],
      "metadata": {
        "id": "mXZooRJQ3GoQ"
      }
    },
    {
      "cell_type": "code",
      "source": [
        "var = 3\n",
        "varDict = {'first':1 , '2' : '2nd' , 3:var}"
      ],
      "metadata": {
        "id": "kabnnEOo3IMw"
      },
      "execution_count": null,
      "outputs": []
    },
    {
      "cell_type": "code",
      "source": [
        "varDict = {}\n",
        "varDict['first'] = 1\n",
        "varDict['2'] = '2nd'\n",
        "varDict[3] = var"
      ],
      "metadata": {
        "id": "kiBQ_wf33Vpr"
      },
      "execution_count": null,
      "outputs": []
    },
    {
      "cell_type": "markdown",
      "source": [
        "# **Arithmetic**\n"
      ],
      "metadata": {
        "id": "tVYMvqNi4TfQ"
      }
    },
    {
      "cell_type": "markdown",
      "source": [
        "Addition"
      ],
      "metadata": {
        "id": "_szGg1854YVK"
      }
    },
    {
      "cell_type": "code",
      "source": [
        "a = 5 + 3"
      ],
      "metadata": {
        "id": "yw-J863K4afY"
      },
      "execution_count": null,
      "outputs": []
    },
    {
      "cell_type": "markdown",
      "source": [
        ">8\n"
      ],
      "metadata": {
        "id": "BOOEuDvo4z34"
      }
    },
    {
      "cell_type": "markdown",
      "source": [
        "Subtraction"
      ],
      "metadata": {
        "id": "Fwx724H84hJh"
      }
    },
    {
      "cell_type": "code",
      "source": [
        "a = 5 - 3"
      ],
      "metadata": {
        "id": "w8Eel0Ap4jSA"
      },
      "execution_count": null,
      "outputs": []
    },
    {
      "cell_type": "markdown",
      "source": [
        ">2"
      ],
      "metadata": {
        "id": "4G3w2hOn48R4"
      }
    },
    {
      "cell_type": "markdown",
      "source": [
        "Multiplication"
      ],
      "metadata": {
        "id": "ywB7SHT24nio"
      }
    },
    {
      "cell_type": "code",
      "source": [
        "a = 5 * 3"
      ],
      "metadata": {
        "id": "7xD93dUl4pzY"
      },
      "execution_count": null,
      "outputs": []
    },
    {
      "cell_type": "markdown",
      "source": [
        ">15"
      ],
      "metadata": {
        "id": "WVYiBjWP4-RB"
      }
    },
    {
      "cell_type": "markdown",
      "source": [
        "Exponent"
      ],
      "metadata": {
        "id": "-8FKy4Z24tHA"
      }
    },
    {
      "cell_type": "code",
      "source": [
        "a = 5 ** 3"
      ],
      "metadata": {
        "id": "eHX40TEb5C4Q"
      },
      "execution_count": null,
      "outputs": []
    },
    {
      "cell_type": "markdown",
      "source": [
        ">125"
      ],
      "metadata": {
        "id": "p7JmvXwt5GML"
      }
    },
    {
      "cell_type": "markdown",
      "source": [
        "Division"
      ],
      "metadata": {
        "id": "o19-Dlci5KCB"
      }
    },
    {
      "cell_type": "code",
      "source": [
        "a = 5 / 3"
      ],
      "metadata": {
        "id": "s_yjVsTa5IEp"
      },
      "execution_count": null,
      "outputs": []
    },
    {
      "cell_type": "markdown",
      "source": [
        "1.666666666666666666667"
      ],
      "metadata": {
        "id": "wG6zGCbu5Q2g"
      }
    },
    {
      "cell_type": "code",
      "source": [
        "a = 5 % 3"
      ],
      "metadata": {
        "id": "J4I7eCz15V7I"
      },
      "execution_count": null,
      "outputs": []
    },
    {
      "cell_type": "markdown",
      "source": [
        ">2"
      ],
      "metadata": {
        "id": "wX3GH9QJ5cJQ"
      }
    },
    {
      "cell_type": "code",
      "source": [
        "a = 5//3"
      ],
      "metadata": {
        "id": "Kh5Qrmhl5ekI"
      },
      "execution_count": null,
      "outputs": []
    },
    {
      "cell_type": "markdown",
      "source": [
        ">1"
      ],
      "metadata": {
        "id": "VAiq6Xk-5hXo"
      }
    },
    {
      "cell_type": "markdown",
      "source": [
        "Increment/Decrement"
      ],
      "metadata": {
        "id": "lu6cW0c553II"
      }
    },
    {
      "cell_type": "code",
      "source": [
        "a = 5\n",
        "a += 1"
      ],
      "metadata": {
        "id": "Mgz0UC2h52jR"
      },
      "execution_count": null,
      "outputs": []
    },
    {
      "cell_type": "markdown",
      "source": [
        ">6"
      ],
      "metadata": {
        "id": "5nTE4H2H5-L5"
      }
    },
    {
      "cell_type": "markdown",
      "source": [
        "Decrement"
      ],
      "metadata": {
        "id": "7YBMHqIc6AB7"
      }
    },
    {
      "cell_type": "code",
      "source": [
        "a = 5\n",
        "a -= 1"
      ],
      "metadata": {
        "id": "gTu6-mpu6CUx"
      },
      "execution_count": null,
      "outputs": []
    },
    {
      "cell_type": "markdown",
      "source": [
        ">4"
      ],
      "metadata": {
        "id": "Vo6dpwTK6EfB"
      }
    },
    {
      "cell_type": "markdown",
      "source": [
        "String Concatenation"
      ],
      "metadata": {
        "id": "HsjgoZ5z6Hvw"
      }
    },
    {
      "cell_type": "code",
      "source": [
        "a = 'Hello ' + 'World'"
      ],
      "metadata": {
        "id": "3egD_07H6HZZ"
      },
      "execution_count": null,
      "outputs": []
    },
    {
      "cell_type": "markdown",
      "source": [
        ">Hello World!"
      ],
      "metadata": {
        "id": "1p3T3gxY6PK4"
      }
    },
    {
      "cell_type": "markdown",
      "source": [
        "Complex Expressions"
      ],
      "metadata": {
        "id": "Xga7xvMp6SQU"
      }
    },
    {
      "cell_type": "code",
      "source": [
        "a = 3 + 5 - 6 * 2 / 4"
      ],
      "metadata": {
        "id": "OZBQznfU6RPi"
      },
      "execution_count": null,
      "outputs": []
    },
    {
      "cell_type": "markdown",
      "source": [
        ">5.0"
      ],
      "metadata": {
        "id": "oxQldm0s6ZZ5"
      }
    },
    {
      "cell_type": "markdown",
      "source": [
        "# **Control Statement and Data Structures**"
      ],
      "metadata": {
        "id": "Rv_PneSH7D_Z"
      }
    },
    {
      "cell_type": "markdown",
      "source": [
        "Boolean Conditions"
      ],
      "metadata": {
        "id": "QBgqODaI7YVg"
      }
    },
    {
      "cell_type": "code",
      "source": [
        "x = True\n",
        "\n",
        "if x:\n",
        "  print(\"var x is True\")\n",
        "else:\n",
        "  print(\"var x is False\")"
      ],
      "metadata": {
        "colab": {
          "base_uri": "https://localhost:8080/"
        },
        "id": "3vUCB5547XQR",
        "outputId": "44f7772a-301e-442d-8e37-89ccdadf813b"
      },
      "execution_count": null,
      "outputs": [
        {
          "output_type": "stream",
          "name": "stdout",
          "text": [
            "var x is True\n"
          ]
        }
      ]
    },
    {
      "cell_type": "markdown",
      "source": [
        ">var x is True"
      ],
      "metadata": {
        "id": "gNj2kXfP7onx"
      }
    },
    {
      "cell_type": "markdown",
      "source": [
        "String Conditions"
      ],
      "metadata": {
        "id": "0fPT8ly77kfh"
      }
    },
    {
      "cell_type": "code",
      "source": [
        "x =\"Hello World!\"\n",
        "\n",
        "if x == 'Hello World!':\n",
        "  print(\"var x is Hello World!\")\n",
        "else:\n",
        "  print(\"var x is not Hello World!\")"
      ],
      "metadata": {
        "colab": {
          "base_uri": "https://localhost:8080/"
        },
        "id": "ZKne-zp77eRA",
        "outputId": "6a8db44e-a4eb-4fd1-9317-43698de7e53e"
      },
      "execution_count": null,
      "outputs": [
        {
          "output_type": "stream",
          "name": "stdout",
          "text": [
            "var x is Hello World!\n"
          ]
        }
      ]
    },
    {
      "cell_type": "markdown",
      "source": [
        ">var x is Hello World!"
      ],
      "metadata": {
        "id": "ByKGl_I07xsh"
      }
    },
    {
      "cell_type": "markdown",
      "source": [
        "**Numerical Conditions**"
      ],
      "metadata": {
        "id": "wVd7TYXR70_J"
      }
    },
    {
      "cell_type": "code",
      "source": [
        "x = 10\n",
        "\n",
        "if x == '10':\n",
        "  print(\"var x is a string\")\n",
        "elif x == 10:\n",
        "  print(\"var x in an integer\")\n",
        "else:\n",
        "  print(\"var x is none of the above\")"
      ],
      "metadata": {
        "colab": {
          "base_uri": "https://localhost:8080/"
        },
        "id": "1lFdbooK7xax",
        "outputId": "2293c419-af33-4fc0-fbd1-10d5c6a580ac"
      },
      "execution_count": null,
      "outputs": [
        {
          "output_type": "stream",
          "name": "stdout",
          "text": [
            "var x in an integer\n"
          ]
        }
      ]
    },
    {
      "cell_type": "markdown",
      "source": [
        ">var x is an integer"
      ],
      "metadata": {
        "id": "s-LmREg_8GKq"
      }
    },
    {
      "cell_type": "markdown",
      "source": [
        "# **Loops**"
      ],
      "metadata": {
        "id": "Pq8ioRNs9O3x"
      }
    },
    {
      "cell_type": "markdown",
      "source": [
        "For Loops"
      ],
      "metadata": {
        "id": "Z2gnBNnZ9XNx"
      }
    },
    {
      "cell_type": "code",
      "source": [
        "for var in range(0, 5, 2):\n",
        "  print(var)"
      ],
      "metadata": {
        "colab": {
          "base_uri": "https://localhost:8080/"
        },
        "id": "FVFbkR0B9YzJ",
        "outputId": "9281a9f3-af6c-46c9-fcee-641d6dbc1f99"
      },
      "execution_count": null,
      "outputs": [
        {
          "output_type": "stream",
          "name": "stdout",
          "text": [
            "0\n",
            "2\n",
            "4\n"
          ]
        }
      ]
    },
    {
      "cell_type": "markdown",
      "source": [
        ">0\n",
        "\n",
        "\n",
        "\n",
        "\n",
        "\n",
        ">2\n",
        "\n",
        "\n",
        "\n",
        "\n",
        "\n",
        ">4"
      ],
      "metadata": {
        "id": "FvVCHpGB9erZ"
      }
    },
    {
      "cell_type": "markdown",
      "source": [
        "While Loops"
      ],
      "metadata": {
        "id": "TYkeBImW9yEc"
      }
    },
    {
      "cell_type": "code",
      "source": [
        "var = 0\n",
        "while var < 5:\n",
        "  print(var)\n",
        "  var += 2"
      ],
      "metadata": {
        "colab": {
          "base_uri": "https://localhost:8080/"
        },
        "id": "YC2Ga2vT9eTx",
        "outputId": "8b1adbb6-3a72-4a94-cfd9-1120d45f8ca4"
      },
      "execution_count": null,
      "outputs": [
        {
          "output_type": "stream",
          "name": "stdout",
          "text": [
            "0\n",
            "2\n",
            "4\n"
          ]
        }
      ]
    },
    {
      "cell_type": "markdown",
      "source": [
        ">0\n",
        "\n",
        "\n",
        "\n",
        "\n",
        "\n",
        ">2\n",
        "\n",
        "\n",
        "\n",
        "\n",
        "\n",
        ">4"
      ],
      "metadata": {
        "id": "FBl_WQSi95ex"
      }
    },
    {
      "cell_type": "markdown",
      "source": [
        "Nested Loops"
      ],
      "metadata": {
        "id": "1OqzBLCJ975B"
      }
    },
    {
      "cell_type": "code",
      "source": [
        "x = 0\n",
        "while x < 5:\n",
        "  for y in range (0,x):\n",
        "    print(y,end='')\n",
        "  x+=1\n",
        "  print()"
      ],
      "metadata": {
        "colab": {
          "base_uri": "https://localhost:8080/"
        },
        "id": "o3a6lIiR99vx",
        "outputId": "629aa20a-85d6-4784-87c2-66ab663c56ca"
      },
      "execution_count": null,
      "outputs": [
        {
          "output_type": "stream",
          "name": "stdout",
          "text": [
            "\n",
            "0\n",
            "01\n",
            "012\n",
            "0123\n"
          ]
        }
      ]
    },
    {
      "cell_type": "markdown",
      "source": [
        ">0\n",
        "\n",
        "\n",
        "\n",
        "\n",
        "\n",
        ">01\n",
        "\n",
        "\n",
        "\n",
        "\n",
        "\n",
        ">012\n",
        "\n",
        "\n",
        "\n",
        "\n",
        "\n",
        ">0123"
      ],
      "metadata": {
        "id": "FMAaq0FO-Lco"
      }
    },
    {
      "cell_type": "markdown",
      "source": [
        "**NOTE** : The loop declaration ends with a colon (:) while its contents inside are indented"
      ],
      "metadata": {
        "id": "NsD5fCPM-WRE"
      }
    },
    {
      "cell_type": "markdown",
      "source": [
        "# **List**"
      ],
      "metadata": {
        "id": "f6lywWWz_U35"
      }
    },
    {
      "cell_type": "markdown",
      "source": [
        "Can contain a number of values comprised of different datatypes"
      ],
      "metadata": {
        "id": "a_GpJ9jE_aI5"
      }
    },
    {
      "cell_type": "code",
      "source": [
        "pi = 3.14159\n",
        "varList = [1, 2, 'A' , 'B' , 'Hello!' , pi]\n",
        "print(varList[0])"
      ],
      "metadata": {
        "colab": {
          "base_uri": "https://localhost:8080/"
        },
        "id": "Eq7bDK32_1gy",
        "outputId": "ae151f72-117b-4b35-9eb8-675ef65f8c1c"
      },
      "execution_count": null,
      "outputs": [
        {
          "output_type": "stream",
          "name": "stdout",
          "text": [
            "1\n"
          ]
        }
      ]
    },
    {
      "cell_type": "markdown",
      "source": [
        ">1"
      ],
      "metadata": {
        "id": "w2DiSpD6ANjJ"
      }
    },
    {
      "cell_type": "code",
      "source": [
        "print(varList[4])"
      ],
      "metadata": {
        "colab": {
          "base_uri": "https://localhost:8080/"
        },
        "id": "7GWgomkaAFMY",
        "outputId": "257b8e96-2c35-42b5-8427-1c4c38d443ef"
      },
      "execution_count": null,
      "outputs": [
        {
          "output_type": "stream",
          "name": "stdout",
          "text": [
            "Hello!\n"
          ]
        }
      ]
    },
    {
      "cell_type": "code",
      "source": [
        "varList.append('World!')\n",
        "print(varList[6])"
      ],
      "metadata": {
        "colab": {
          "base_uri": "https://localhost:8080/"
        },
        "id": "_J904vYeASaQ",
        "outputId": "9ca23b38-aff1-476f-a773-5295daf1a744"
      },
      "execution_count": null,
      "outputs": [
        {
          "output_type": "stream",
          "name": "stdout",
          "text": [
            "World!\n"
          ]
        }
      ]
    },
    {
      "cell_type": "code",
      "source": [
        "len(varList)"
      ],
      "metadata": {
        "colab": {
          "base_uri": "https://localhost:8080/"
        },
        "id": "D4TMz_MEAfjR",
        "outputId": "18cbfc4c-ad78-4f59-c294-3fea91552019"
      },
      "execution_count": null,
      "outputs": [
        {
          "output_type": "execute_result",
          "data": {
            "text/plain": [
              "7"
            ]
          },
          "metadata": {},
          "execution_count": 15
        }
      ]
    },
    {
      "cell_type": "code",
      "source": [
        "print(varList[5])"
      ],
      "metadata": {
        "colab": {
          "base_uri": "https://localhost:8080/"
        },
        "id": "9CEEyIU6Ah-5",
        "outputId": "1a36d2c2-b9ee-4d24-9e2d-5b4fc55224a6"
      },
      "execution_count": null,
      "outputs": [
        {
          "output_type": "stream",
          "name": "stdout",
          "text": [
            "3.14159\n"
          ]
        }
      ]
    },
    {
      "cell_type": "code",
      "source": [
        "varList.remove(pi)\n",
        "print(varList[5])"
      ],
      "metadata": {
        "colab": {
          "base_uri": "https://localhost:8080/"
        },
        "id": "0Up15e60AnWQ",
        "outputId": "0121704a-fa04-497e-fec9-6bc56a993571"
      },
      "execution_count": null,
      "outputs": [
        {
          "output_type": "stream",
          "name": "stdout",
          "text": [
            "World!\n"
          ]
        }
      ]
    },
    {
      "cell_type": "markdown",
      "source": [
        "**NOTE** : List starts with an index of 0. The remove() methd erases the first value that matches the parameter"
      ],
      "metadata": {
        "id": "w2Szh1IdBDtI"
      }
    },
    {
      "cell_type": "markdown",
      "source": [
        "# **Dictionaries**"
      ],
      "metadata": {
        "id": "aLBmTZ0yBT2p"
      }
    },
    {
      "cell_type": "code",
      "source": [
        "var = \"Hello World!\"\n",
        "varDict = {'first' : 123, 2 : 'abc', '3' : var, 4:['lista', 'listb']}\n",
        "print(varDict['first'])"
      ],
      "metadata": {
        "colab": {
          "base_uri": "https://localhost:8080/"
        },
        "id": "2dRRW6wkBTiL",
        "outputId": "b873f4a6-4e90-47ca-8a32-bdb399566792"
      },
      "execution_count": null,
      "outputs": [
        {
          "output_type": "stream",
          "name": "stdout",
          "text": [
            "123\n"
          ]
        }
      ]
    },
    {
      "cell_type": "code",
      "source": [
        "print(varDict[2])"
      ],
      "metadata": {
        "colab": {
          "base_uri": "https://localhost:8080/"
        },
        "id": "nuSB4t4iBmn7",
        "outputId": "07fe6f46-88fc-499f-a406-04df536501f4"
      },
      "execution_count": null,
      "outputs": [
        {
          "output_type": "stream",
          "name": "stdout",
          "text": [
            "abc\n"
          ]
        }
      ]
    },
    {
      "cell_type": "code",
      "source": [
        "print(varDict['3'])"
      ],
      "metadata": {
        "colab": {
          "base_uri": "https://localhost:8080/"
        },
        "id": "BPx4SfusBqQ4",
        "outputId": "b5f05789-60d5-4215-8dac-88048bb29d48"
      },
      "execution_count": null,
      "outputs": [
        {
          "output_type": "stream",
          "name": "stdout",
          "text": [
            "Hello World!\n"
          ]
        }
      ]
    },
    {
      "cell_type": "code",
      "source": [
        "print(varDict[4])"
      ],
      "metadata": {
        "colab": {
          "base_uri": "https://localhost:8080/"
        },
        "id": "7moFN9KLBtD4",
        "outputId": "918729e8-6276-4f02-b386-cb5dfd9efa37"
      },
      "execution_count": null,
      "outputs": [
        {
          "output_type": "stream",
          "name": "stdout",
          "text": [
            "['lista', 'listb']\n"
          ]
        }
      ]
    },
    {
      "cell_type": "code",
      "source": [
        "print(varDict[4][1])"
      ],
      "metadata": {
        "colab": {
          "base_uri": "https://localhost:8080/"
        },
        "id": "5pLK4XcSBwWo",
        "outputId": "5d739324-47f4-4d9c-c76a-e92847feb401"
      },
      "execution_count": null,
      "outputs": [
        {
          "output_type": "stream",
          "name": "stdout",
          "text": [
            "listb\n"
          ]
        }
      ]
    },
    {
      "cell_type": "code",
      "source": [
        "len(varDict)"
      ],
      "metadata": {
        "colab": {
          "base_uri": "https://localhost:8080/"
        },
        "id": "rdjvWhtbBzE5",
        "outputId": "da29ffba-7f2d-4833-8d5c-cd6c4e58525c"
      },
      "execution_count": null,
      "outputs": [
        {
          "output_type": "execute_result",
          "data": {
            "text/plain": [
              "4"
            ]
          },
          "metadata": {},
          "execution_count": 25
        }
      ]
    },
    {
      "cell_type": "code",
      "source": [],
      "metadata": {
        "id": "4rmC1G3cB5yx"
      },
      "execution_count": null,
      "outputs": []
    },
    {
      "cell_type": "markdown",
      "source": [
        "# **Generators and Comprehension**"
      ],
      "metadata": {
        "id": "g0KhnzUnEGey"
      }
    },
    {
      "cell_type": "markdown",
      "source": [
        "Generators can be used to build list in the memory as objects"
      ],
      "metadata": {
        "id": "XPVou9d-EMjx"
      }
    },
    {
      "cell_type": "code",
      "source": [
        "def gen_num_up_to(n):\n",
        "  num = 0\n",
        "  while num < n:\n",
        "    yield num\n",
        "    num += 1"
      ],
      "metadata": {
        "id": "jYWNHLXZEURZ"
      },
      "execution_count": null,
      "outputs": []
    },
    {
      "cell_type": "code",
      "source": [
        "gen_num_up_to(5)"
      ],
      "metadata": {
        "colab": {
          "base_uri": "https://localhost:8080/"
        },
        "id": "yiiDEyOXEgNp",
        "outputId": "ab6c1373-342b-4117-c692-4f82dc07161f"
      },
      "execution_count": null,
      "outputs": [
        {
          "output_type": "execute_result",
          "data": {
            "text/plain": [
              "<generator object gen_num_up_to at 0x7e093137d2a0>"
            ]
          },
          "metadata": {},
          "execution_count": 67
        }
      ]
    },
    {
      "cell_type": "markdown",
      "source": [
        "**NOTE** : This creates an object"
      ],
      "metadata": {
        "id": "GCdgbnuzElGR"
      }
    },
    {
      "cell_type": "code",
      "source": [
        "varList = gen_num_up_to(5)\n",
        "print([var for var in varList])"
      ],
      "metadata": {
        "colab": {
          "base_uri": "https://localhost:8080/"
        },
        "id": "PC7LKDOuEjTA",
        "outputId": "ab10ff57-20d0-4b53-d05b-d7491e5e01ba"
      },
      "execution_count": null,
      "outputs": [
        {
          "output_type": "stream",
          "name": "stdout",
          "text": [
            "[0, 1, 2, 3, 4]\n"
          ]
        }
      ]
    },
    {
      "cell_type": "code",
      "source": [
        "def gen_num_up_to(n):\n",
        "  num = 0\n",
        "  while num < n:\n",
        "    yield num\n",
        "    num += 2\n",
        "\n",
        "varList = gen_num_up_to(5)\n",
        "print([var for var in varList])"
      ],
      "metadata": {
        "colab": {
          "base_uri": "https://localhost:8080/"
        },
        "id": "l_OrYWd2ExNJ",
        "outputId": "646ddd2a-51bc-4589-9880-f81bd45bbca2"
      },
      "execution_count": null,
      "outputs": [
        {
          "output_type": "stream",
          "name": "stdout",
          "text": [
            "[0, 2, 4]\n"
          ]
        }
      ]
    },
    {
      "cell_type": "code",
      "source": [
        "varList = range(0, 5, 2)\n",
        "print([var for var in varList])"
      ],
      "metadata": {
        "colab": {
          "base_uri": "https://localhost:8080/"
        },
        "id": "lrvuF0RZFC1p",
        "outputId": "4858db99-7d71-400d-904d-0b7aa0a81a82"
      },
      "execution_count": null,
      "outputs": [
        {
          "output_type": "stream",
          "name": "stdout",
          "text": [
            "[0, 2, 4]\n"
          ]
        }
      ]
    },
    {
      "cell_type": "markdown",
      "source": [
        "**NOTE** : Python's built in range function range([start] , stop , [step])"
      ],
      "metadata": {
        "id": "SiQmNPKIFNrK"
      }
    },
    {
      "cell_type": "markdown",
      "source": [
        "# **Slicing**"
      ],
      "metadata": {
        "id": "ajOe9Eo7Ghpp"
      }
    },
    {
      "cell_type": "code",
      "source": [
        "varList = [1,2,3,4,5,6,7,8,9,10]\n",
        "print(varList[:5])"
      ],
      "metadata": {
        "colab": {
          "base_uri": "https://localhost:8080/"
        },
        "id": "KM0KmnK8Glr4",
        "outputId": "6c55c6d1-117f-486b-d1cb-faec8df0eeee"
      },
      "execution_count": null,
      "outputs": [
        {
          "output_type": "stream",
          "name": "stdout",
          "text": [
            "[1, 2, 3, 4, 5]\n"
          ]
        }
      ]
    },
    {
      "cell_type": "code",
      "source": [
        "print(varList[5:])"
      ],
      "metadata": {
        "colab": {
          "base_uri": "https://localhost:8080/"
        },
        "id": "bC05MDHVGwVR",
        "outputId": "6e6365f7-11f6-4bf9-fcb5-49f5922d4a4d"
      },
      "execution_count": null,
      "outputs": [
        {
          "output_type": "stream",
          "name": "stdout",
          "text": [
            "[6, 7, 8, 9, 10]\n"
          ]
        }
      ]
    },
    {
      "cell_type": "code",
      "source": [
        "print(varList[:-2])\n"
      ],
      "metadata": {
        "colab": {
          "base_uri": "https://localhost:8080/"
        },
        "id": "VogT65r3G3q5",
        "outputId": "40dcbb65-0df5-46a9-9b38-c6d94af7acbf"
      },
      "execution_count": null,
      "outputs": [
        {
          "output_type": "stream",
          "name": "stdout",
          "text": [
            "[1, 2, 3, 4, 5, 6, 7, 8]\n"
          ]
        }
      ]
    },
    {
      "cell_type": "code",
      "source": [
        "print(varList[-2:])"
      ],
      "metadata": {
        "colab": {
          "base_uri": "https://localhost:8080/"
        },
        "id": "-HzecUkjHVwJ",
        "outputId": "79524d63-6aa9-485d-935c-f995a79baafd"
      },
      "execution_count": null,
      "outputs": [
        {
          "output_type": "stream",
          "name": "stdout",
          "text": [
            "[9, 10]\n"
          ]
        }
      ]
    },
    {
      "cell_type": "code",
      "source": [
        "|print(varList[2:-2])"
      ],
      "metadata": {
        "colab": {
          "base_uri": "https://localhost:8080/"
        },
        "id": "1AEiSZAYHYOJ",
        "outputId": "1be2c747-1fde-46d7-e9e1-3b8742f4871b"
      },
      "execution_count": null,
      "outputs": [
        {
          "output_type": "stream",
          "name": "stdout",
          "text": [
            "[3, 4, 5, 6, 7, 8]\n"
          ]
        }
      ]
    },
    {
      "cell_type": "code",
      "source": [
        "print(varList[2:8:2])"
      ],
      "metadata": {
        "colab": {
          "base_uri": "https://localhost:8080/"
        },
        "id": "PDYRxpw6Hb3R",
        "outputId": "c3fecd12-3592-401d-9939-b5039268dda6"
      },
      "execution_count": null,
      "outputs": [
        {
          "output_type": "stream",
          "name": "stdout",
          "text": [
            "[3, 5, 7]\n"
          ]
        }
      ]
    },
    {
      "cell_type": "markdown",
      "source": [
        "**NOTE** :  \n",
        "list(start:)\n",
        "            \n",
        "list(:end)\n",
        "\n",
        "list(start:end)\n",
        "\n",
        "list(start:end:step)"
      ],
      "metadata": {
        "id": "Ugp8LyQEHfXK"
      }
    },
    {
      "cell_type": "markdown",
      "source": [
        "# **Function**"
      ],
      "metadata": {
        "id": "yMjJmIWSIKaB"
      }
    },
    {
      "cell_type": "markdown",
      "source": [
        "Python functions uses the following notations\n",
        "  \n",
        "  def *funcion_name:*\n",
        "     \n",
        "  commands"
      ],
      "metadata": {
        "id": "PcPE6mW2IPtB"
      }
    },
    {
      "cell_type": "code",
      "source": [
        "def remainder(n , m):\n",
        "  while True:\n",
        "    if n - m < 0:\n",
        "      return n\n",
        "    else:\n",
        "      n = n - m\n",
        "remainder(10 , 4)\n"
      ],
      "metadata": {
        "colab": {
          "base_uri": "https://localhost:8080/"
        },
        "id": "zPvCYkTkIf8p",
        "outputId": "dc70e88f-f1ff-4bac-950c-0866aa06ff84"
      },
      "execution_count": null,
      "outputs": [
        {
          "output_type": "execute_result",
          "data": {
            "text/plain": [
              "2"
            ]
          },
          "metadata": {},
          "execution_count": 84
        }
      ]
    },
    {
      "cell_type": "markdown",
      "source": [
        "**NOTE** : Functions are defined with the keywords def before the function_name. Similar to loops, the function definition ends with a colon (:) while its contents inside are indented"
      ],
      "metadata": {
        "id": "igN6B-KbI5ZC"
      }
    },
    {
      "cell_type": "markdown",
      "source": [
        "# **Exercise 2**"
      ],
      "metadata": {
        "id": "etSC81TPxfLE"
      }
    },
    {
      "cell_type": "markdown",
      "source": [
        "**Challenge 2 : Coin Flip**"
      ],
      "metadata": {
        "id": "ZVRO1bwRxnE7"
      }
    },
    {
      "cell_type": "markdown",
      "source": [
        "Create a function coin flip() that simulates coin flips repeated times, with 0 representing tails and 1 representing heads. Make the function a generator with the parameter as the number of coin flips.\n",
        "\n",
        "Use the numpy library as np and the function of np.random.randint() in order to simulate a coin flip. After defining this function, return the result as a List using List Comprehension discussed previously."
      ],
      "metadata": {
        "id": "w1Bvh3sDyFFA"
      }
    },
    {
      "cell_type": "code",
      "source": [
        "import numpy as np\n",
        "\n",
        "def coin_flip(n):\n",
        "  for _ in range(n):\n",
        "        yield np.random.randint(0, 2)\n",
        "\n",
        "print([var for var in coin_flip(8)])"
      ],
      "metadata": {
        "id": "5DVWDT25ynbY",
        "outputId": "6173cdc3-deb1-46c7-91e8-705e86ffa8b3",
        "colab": {
          "base_uri": "https://localhost:8080/"
        }
      },
      "execution_count": 7,
      "outputs": [
        {
          "output_type": "stream",
          "name": "stdout",
          "text": [
            "[0, 1, 0, 0, 0, 1, 0, 1]\n"
          ]
        }
      ]
    }
  ]
}