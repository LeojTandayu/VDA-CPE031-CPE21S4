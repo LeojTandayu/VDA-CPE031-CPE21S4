{
  "nbformat": 4,
  "nbformat_minor": 0,
  "metadata": {
    "colab": {
      "provenance": [],
      "authorship_tag": "ABX9TyNg+0FkIG3sLJJvJfpj5bQx",
      "include_colab_link": true
    },
    "kernelspec": {
      "name": "python3",
      "display_name": "Python 3"
    },
    "language_info": {
      "name": "python"
    }
  },
  "cells": [
    {
      "cell_type": "markdown",
      "metadata": {
        "id": "view-in-github",
        "colab_type": "text"
      },
      "source": [
        "<a href=\"https://colab.research.google.com/github/LeojTandayu/VDA-CPE031-CPE21S4/blob/main/Prelims_Exam.ipynb\" target=\"_parent\"><img src=\"https://colab.research.google.com/assets/colab-badge.svg\" alt=\"Open In Colab\"/></a>"
      ]
    },
    {
      "cell_type": "markdown",
      "source": [
        "# **Question 11**\n",
        "\n",
        "Write a  Pandas program to create a Data Frame from a dictionary and display it like similar to the table below:"
      ],
      "metadata": {
        "id": "gtyYZEQrE1MD"
      }
    },
    {
      "cell_type": "code",
      "source": [
        "import pandas as pd\n",
        "\n",
        "\n",
        "s1 = [78 , 84 , 86]\n",
        "s2 = [85 , 94 , 97]\n",
        "s3 = [96 , 89 , 72]\n",
        "s4 = [80 , 83 , 83]\n",
        "s5 = [86 , 86 , 83]\n",
        "\n",
        "df = pd.DataFrame([s1,s2,s3,s4,s5], columns = ['x' , 'y' , 'z'])\n",
        "print(df)\n"
      ],
      "metadata": {
        "colab": {
          "base_uri": "https://localhost:8080/"
        },
        "id": "-v13jcgJDR6B",
        "outputId": "caf8f43f-00ee-4043-962d-f864e37a3d58"
      },
      "execution_count": 11,
      "outputs": [
        {
          "output_type": "stream",
          "name": "stdout",
          "text": [
            "    x   y   z\n",
            "0  78  84  86\n",
            "1  85  94  97\n",
            "2  96  89  72\n",
            "3  80  83  83\n",
            "4  86  86  83\n"
          ]
        }
      ]
    },
    {
      "cell_type": "markdown",
      "source": [
        "# **Question 12**\n",
        "\n",
        "Write a Pandas program to delete Data Frame row(s) based on given column value."
      ],
      "metadata": {
        "id": "s1lLg9FHE-sw"
      }
    },
    {
      "cell_type": "code",
      "source": [
        "import pandas as pd\n",
        "print(\"Original DataFrame\")\n",
        "s1 = [1 , 4 , 7]\n",
        "s2 = [4 , 5 , 8]\n",
        "s3 = [3 , 6 , 9]\n",
        "s4 = [4 , 7 , 0]\n",
        "s5 = [5 , 8 , 1]\n",
        "\n",
        "df = pd.DataFrame([s1,s2,s3,s4,s5], columns = ['col1' , 'col2' , 'col3'])\n",
        "print(df)\n",
        "\n",
        "print(\"New DataFrame\")\n",
        "newdf = df.drop(df.index[1])\n",
        "print(newdf)"
      ],
      "metadata": {
        "colab": {
          "base_uri": "https://localhost:8080/"
        },
        "id": "_Jw8Y0_UE-eH",
        "outputId": "151a58fd-f311-453e-ddb1-44ee96194059"
      },
      "execution_count": 16,
      "outputs": [
        {
          "output_type": "stream",
          "name": "stdout",
          "text": [
            "Original DataFrame\n",
            "   col1  col2  col3\n",
            "0     1     4     7\n",
            "1     4     5     8\n",
            "2     3     6     9\n",
            "3     4     7     0\n",
            "4     5     8     1\n",
            "New DataFrame\n",
            "   col1  col2  col3\n",
            "0     1     4     7\n",
            "2     3     6     9\n",
            "3     4     7     0\n",
            "4     5     8     1\n"
          ]
        }
      ]
    },
    {
      "cell_type": "markdown",
      "source": [
        "# **Question 13**\n",
        "\n",
        "1. Download the data sheet from the repository: Computer Data Sheet\n",
        "\n",
        "Links to an external site..\n",
        "\n",
        "2. Load the file using Python program Pandas and load them into data frame.\n",
        "\n",
        "3. View the data in a tabulated form.\n",
        "\n",
        "4. Convert the file into csv format and upload it here or provide the link of your python colab.\n",
        "\n",
        "5. Save your file as PrelimExam.csv in your GitHub repository.\n",
        "\n",
        "6. Based on your data analysis, what information can you get from the table?\n",
        "    "
      ],
      "metadata": {
        "id": "6LuWDNdNHXIT"
      }
    },
    {
      "cell_type": "code",
      "source": [
        "import pandas as pd\n",
        "from tabulate import tabulate\n",
        "\n",
        "\n",
        "df = pd.read_csv('ComputerData.csv.csv')\n",
        "print(tabulate(df , headers = \"keys\" , tablefmt='psql'))\n",
        "\n",
        "df.to_csv('PrelimExam.csv')"
      ],
      "metadata": {
        "colab": {
          "base_uri": "https://localhost:8080/"
        },
        "id": "WSHI7fwkKX-l",
        "outputId": "cf390601-fd6c-495c-a933-f0d1d3d38958"
      },
      "execution_count": 46,
      "outputs": [
        {
          "output_type": "stream",
          "name": "stdout",
          "text": [
            "+----+---------------+---------+-------------+-------------+------------+----------------+------------------+-------------+\n",
            "|    |   Computer ID | Brand   | Model       | Processor   |   RAM (GB) |   Storage (GB) | Graphics Card    |   Price ($) |\n",
            "|----+---------------+---------+-------------+-------------+------------+----------------+------------------+-------------|\n",
            "|  0 |             1 | Dell    | XPS 13      | Intel i7    |         16 |            512 | Intel Iris Xe    |        1200 |\n",
            "|  1 |             2 | HP      | Pavilion 15 | AMD Ryzen 5 |          8 |            256 | AMD Radeon       |         800 |\n",
            "|  2 |             3 | Apple   | MacBook Pro | Apple M1    |         16 |           1024 | Apple Integrated |        2400 |\n",
            "|  3 |             4 | Lenovo  | ThinkPad X1 | Intel i9    |         32 |            512 | NVIDIA GTX 1650  |        1800 |\n",
            "|  4 |             5 | Asus    | ZenBook 14  | Intel i5    |         16 |            512 | NVIDIA MX250     |        1000 |\n",
            "+----+---------------+---------+-------------+-------------+------------+----------------+------------------+-------------+\n"
          ]
        }
      ]
    }
  ]
}